{
 "cells": [
  {
   "cell_type": "code",
   "execution_count": 1,
   "id": "d755cb8d",
   "metadata": {},
   "outputs": [],
   "source": [
    "# importing required libraries\n",
    "\n",
    "import pandas as pd \n",
    "import numpy as np\n",
    "import altair as alt"
   ]
  },
  {
   "cell_type": "code",
   "execution_count": 2,
   "id": "9bfee7f3",
   "metadata": {},
   "outputs": [],
   "source": [
    "# importing the data \n",
    "\n",
    "df = pd.read_csv('minard-data.csv')"
   ]
  },
  {
   "cell_type": "code",
   "execution_count": 3,
   "id": "b9eb23ae",
   "metadata": {},
   "outputs": [],
   "source": [
    "# modifying data to create map with positions of the city\n",
    "modify = df.dropna(subset=['CITY'])\n",
    "city = modify[['LONC', 'LATC', 'CITY']]\n",
    "\n",
    "# creating map with city names and markings using altair library\n",
    "cityMap = alt.Chart(city).mark_circle(size=65, color=\"black\").encode(\n",
    "        longitude='LONC:Q', latitude='LATC:Q',\n",
    "        tooltip=[alt.Tooltip('LATC', title='Latitude'), alt.Tooltip('LONC', title='Longitude'),\n",
    "                 alt.Tooltip('CITY', title='City')]\n",
    "    ) + alt.Chart(city).mark_text(font='Comic Sans MS', fontSize=12, dx=7, dy=-12).encode(\n",
    "    longitude='LONC:Q', latitude='LATC:Q', text='CITY')"
   ]
  },
  {
   "cell_type": "code",
   "execution_count": 4,
   "id": "9dc97d8a",
   "metadata": {},
   "outputs": [],
   "source": [
    "# modifying and sorting data for the path of the army\n",
    "army = df[['LONP','LATP','SURV','DIR','DIV']]\n",
    "army = army.sort_values(by=[\"DIV\", \"SURV\"], ascending=False)\n",
    "\n",
    "armyText = army.iloc[::2, :].copy()\n",
    "armyText[\"LONP\"] += 0.13 * (armyText[\"DIV\"])\n",
    "armyText[\"LATP\"] += armyText[\"DIR\"].replace({\"A\": 0.35, \"R\": -0.21})\n",
    "\n",
    "# creating map with path of the army using altair library\n",
    "armyMap = alt.Chart(army).mark_trail(opacity=0.5).encode(\n",
    "    longitude='LONP',latitude='LATP', size=alt.Size('SURV',scale=alt.Scale(range=[10, 50]),\n",
    "                legend = alt.Legend(title = 'Survivors', symbolSize = 300, titleFontSize = 15, labelFontSize = 15)),\n",
    "    detail='DIR',color=alt.Color(\n",
    "        'DIR',scale=alt.Scale(\n",
    "            domain=['A', 'R'],\n",
    "            range=['purple', 'orange']),\n",
    "        legend = alt.Legend(title = 'Direction', symbolSize = 1000, titleFontSize = 15, labelFontSize = 15)),\n",
    "    tooltip=[alt.Tooltip('LATP', title='Latitude'), alt.Tooltip('LONP', title='Longitude'), \n",
    "             alt.Tooltip('SURV', title='Survivors'), alt.Tooltip('DIR', title='Direction')]\n",
    ") + alt.Chart(armyText).mark_text(font='Comic Sans MS', fontSize=8, fontStyle='italic', dx=1, dy=8, angle=280).encode(\n",
    "    longitude='LONP:Q', latitude='LATP:Q', text='SURV:Q') + alt.Chart(army).mark_trail(opacity=0.5).encode(\n",
    "    longitude='LONP:Q',latitude='LATP:Q',\n",
    "    detail='DIV',color=alt.Color(\n",
    "        'DIV',scale=alt.Scale(\n",
    "            domain=['1', '2', '3'],\n",
    "            range=['red', 'green', 'blue']), \n",
    "        legend = alt.Legend(title = 'Division', direction = 'horizontal', symbolSize = 1000, titleFontSize = 15, \n",
    "                            labelFontSize = 15))).properties(height=400, width=1000)"
   ]
  },
  {
   "cell_type": "code",
   "execution_count": 5,
   "id": "183034d3",
   "metadata": {},
   "outputs": [],
   "source": [
    "# Combining maps of city markings and path of army using altair library\n",
    "# You can find the number of survivors when you hover over the path of army \n",
    "X = alt.X(\n",
    "    'LONP', scale=alt.Scale(domain=[army[\"LONP\"].min(), army[\"LONP\"].max()]),\n",
    "    axis=alt.Axis(title=\"Longitude\", grid=True, titleFontSize = 20, titleColor='gray'))\n",
    "\n",
    "Y = alt.Y(\n",
    "    'LATP', scale=alt.Scale(domain=[army[\"LATP\"].min() - 1.25, army[\"LATP\"].max() + 1.25]),\n",
    "    axis=alt.Axis(title=\"Latitude\", grid=True, orient=\"left\", titleFontSize = 20, titleColor='gray'))\n",
    "    \n",
    "maps = cityMap + armyMap + alt.Chart(army).mark_text().encode(\n",
    "    X, Y). properties(height=400, width=1000, title = \"Minard’s visualization of Napolean’s Russian Campaign\")\n",
    "\n",
    "\n",
    "#Uncomment the following comment to get \n",
    "# (a) position of cities and path of army through them\n",
    "# (b) survivors in the army along the path\n",
    "#maps"
   ]
  },
  {
   "cell_type": "code",
   "execution_count": 6,
   "id": "81fe12a1",
   "metadata": {},
   "outputs": [],
   "source": [
    "# Modifying data to create map for temperature during retreat\n",
    "modDf = df.dropna(subset=['TEMP'])\n",
    "temp = modDf[['LONT','TEMP','DAYS','MON', 'DAY']]\n",
    "pd.set_option('mode.chained_assignment', None)\n",
    "temp['DAYS'] = temp['DAYS'].astype('str').str.strip('.0')\n",
    "temp['MON'] = temp['MON'].astype('str')\n",
    "temp = temp.replace('nan', np.nan)\n",
    "temp[\"date\"] = temp.fillna(\"\").apply(axis=1, func=lambda row: \"{}° {} {}\".format(row[1], row[3], row[2]))\n",
    "\n",
    "# creating map for temperature during retreat using altair library\n",
    "x = alt.X(\n",
    "        'LONT', scale=alt.Scale(domain=[army[\"LONP\"].min(), army[\"LONP\"].max()]),\n",
    "        axis=alt.Axis(title=\"Longitude\", grid=True, titleFontSize = 20, titleColor='gray'))\n",
    "\n",
    "y = alt.Y(\n",
    "        'TEMP', axis=alt.Axis(title=\"Temperature on Retreat\", grid=True, orient='right', titleFontSize = 20, titleColor='gray'),\n",
    "        scale=alt.Scale(domain=[temp[\"TEMP\"].min() - 10, temp[\"TEMP\"].max() + 10]))\n",
    "\n",
    "tempMap = alt.Chart(temp).mark_line(\n",
    "    color=\"orange\").encode(\n",
    "    x, y,) + alt.Chart(temp).mark_circle(size=50, color=\"blue\").encode(\n",
    "    x,y,tooltip=[alt.Tooltip('LONT', title='Longitude'), alt.Tooltip('TEMP', title='Temperature'), \n",
    "                 alt.Tooltip('date', title='Date')]\n",
    "    ) + alt.Chart(temp).mark_text(dx=5, dy=20, font='Comic Sans MS', fontSize=12).encode(\n",
    "    x, y, text='date').properties(height=400, width=1000, title = 'Temperature in degrees during retreat')\n",
    "\n",
    "#Uncomment the following comment to get \n",
    "# (c) temperature during retreat\n",
    "#tempMap"
   ]
  },
  {
   "cell_type": "code",
   "execution_count": 7,
   "id": "016a97d2",
   "metadata": {},
   "outputs": [],
   "source": [
    "# Concatinating the maps to create one final map\n",
    "finalMap = alt.vconcat(maps, tempMap).configure_view(\n",
    "        width=2000, height=1500, strokeWidth=0).configure_axis(\n",
    "    grid=False, labelFont=\"Comic Sans MS\", titleFont=\"Comic Sans MS\").configure_title(\n",
    "    fontSize=30, font='Comic Sans MS', color='black')"
   ]
  },
  {
   "cell_type": "code",
   "execution_count": 8,
   "id": "28844214",
   "metadata": {
    "scrolled": true
   },
   "outputs": [
    {
     "data": {
      "text/html": [
       "\n",
       "<div id=\"altair-viz-82ee1c8c47c1416596ca8658ce54cd6f\"></div>\n",
       "<script type=\"text/javascript\">\n",
       "  var VEGA_DEBUG = (typeof VEGA_DEBUG == \"undefined\") ? {} : VEGA_DEBUG;\n",
       "  (function(spec, embedOpt){\n",
       "    let outputDiv = document.currentScript.previousElementSibling;\n",
       "    if (outputDiv.id !== \"altair-viz-82ee1c8c47c1416596ca8658ce54cd6f\") {\n",
       "      outputDiv = document.getElementById(\"altair-viz-82ee1c8c47c1416596ca8658ce54cd6f\");\n",
       "    }\n",
       "    const paths = {\n",
       "      \"vega\": \"https://cdn.jsdelivr.net/npm//vega@5?noext\",\n",
       "      \"vega-lib\": \"https://cdn.jsdelivr.net/npm//vega-lib?noext\",\n",
       "      \"vega-lite\": \"https://cdn.jsdelivr.net/npm//vega-lite@4.17.0?noext\",\n",
       "      \"vega-embed\": \"https://cdn.jsdelivr.net/npm//vega-embed@6?noext\",\n",
       "    };\n",
       "\n",
       "    function maybeLoadScript(lib, version) {\n",
       "      var key = `${lib.replace(\"-\", \"\")}_version`;\n",
       "      return (VEGA_DEBUG[key] == version) ?\n",
       "        Promise.resolve(paths[lib]) :\n",
       "        new Promise(function(resolve, reject) {\n",
       "          var s = document.createElement('script');\n",
       "          document.getElementsByTagName(\"head\")[0].appendChild(s);\n",
       "          s.async = true;\n",
       "          s.onload = () => {\n",
       "            VEGA_DEBUG[key] = version;\n",
       "            return resolve(paths[lib]);\n",
       "          };\n",
       "          s.onerror = () => reject(`Error loading script: ${paths[lib]}`);\n",
       "          s.src = paths[lib];\n",
       "        });\n",
       "    }\n",
       "\n",
       "    function showError(err) {\n",
       "      outputDiv.innerHTML = `<div class=\"error\" style=\"color:red;\">${err}</div>`;\n",
       "      throw err;\n",
       "    }\n",
       "\n",
       "    function displayChart(vegaEmbed) {\n",
       "      vegaEmbed(outputDiv, spec, embedOpt)\n",
       "        .catch(err => showError(`Javascript Error: ${err.message}<br>This usually means there's a typo in your chart specification. See the javascript console for the full traceback.`));\n",
       "    }\n",
       "\n",
       "    if(typeof define === \"function\" && define.amd) {\n",
       "      requirejs.config({paths});\n",
       "      require([\"vega-embed\"], displayChart, err => showError(`Error loading script: ${err.message}`));\n",
       "    } else {\n",
       "      maybeLoadScript(\"vega\", \"5\")\n",
       "        .then(() => maybeLoadScript(\"vega-lite\", \"4.17.0\"))\n",
       "        .then(() => maybeLoadScript(\"vega-embed\", \"6\"))\n",
       "        .catch(showError)\n",
       "        .then(() => displayChart(vegaEmbed));\n",
       "    }\n",
       "  })({\"config\": {\"view\": {\"continuousWidth\": 400, \"continuousHeight\": 300, \"height\": 1500, \"strokeWidth\": 0, \"width\": 2000}, \"axis\": {\"grid\": false, \"labelFont\": \"Comic Sans MS\", \"titleFont\": \"Comic Sans MS\"}, \"title\": {\"color\": \"black\", \"font\": \"Comic Sans MS\", \"fontSize\": 30}}, \"vconcat\": [{\"layer\": [{\"mark\": {\"type\": \"circle\", \"color\": \"black\", \"size\": 65}, \"encoding\": {\"latitude\": {\"field\": \"LATC\", \"type\": \"quantitative\"}, \"longitude\": {\"field\": \"LONC\", \"type\": \"quantitative\"}, \"tooltip\": [{\"field\": \"LATC\", \"title\": \"Latitude\", \"type\": \"quantitative\"}, {\"field\": \"LONC\", \"title\": \"Longitude\", \"type\": \"quantitative\"}, {\"field\": \"CITY\", \"title\": \"City\", \"type\": \"nominal\"}]}}, {\"mark\": {\"type\": \"text\", \"dx\": 7, \"dy\": -12, \"font\": \"Comic Sans MS\", \"fontSize\": 12}, \"encoding\": {\"latitude\": {\"field\": \"LATC\", \"type\": \"quantitative\"}, \"longitude\": {\"field\": \"LONC\", \"type\": \"quantitative\"}, \"text\": {\"field\": \"CITY\", \"type\": \"nominal\"}}}, {\"layer\": [{\"data\": {\"name\": \"data-05bdf1637c0980c8876c6f89aa42dd19\"}, \"mark\": {\"type\": \"trail\", \"opacity\": 0.5}, \"encoding\": {\"color\": {\"field\": \"DIR\", \"legend\": {\"labelFontSize\": 15, \"symbolSize\": 1000, \"title\": \"Direction\", \"titleFontSize\": 15}, \"scale\": {\"domain\": [\"A\", \"R\"], \"range\": [\"purple\", \"orange\"]}, \"type\": \"nominal\"}, \"detail\": {\"field\": \"DIR\", \"type\": \"nominal\"}, \"latitude\": {\"field\": \"LATP\", \"type\": \"quantitative\"}, \"longitude\": {\"field\": \"LONP\", \"type\": \"quantitative\"}, \"size\": {\"field\": \"SURV\", \"legend\": {\"labelFontSize\": 15, \"symbolSize\": 300, \"title\": \"Survivors\", \"titleFontSize\": 15}, \"scale\": {\"range\": [10, 50]}, \"type\": \"quantitative\"}, \"tooltip\": [{\"field\": \"LATP\", \"title\": \"Latitude\", \"type\": \"quantitative\"}, {\"field\": \"LONP\", \"title\": \"Longitude\", \"type\": \"quantitative\"}, {\"field\": \"SURV\", \"title\": \"Survivors\", \"type\": \"quantitative\"}, {\"field\": \"DIR\", \"title\": \"Direction\", \"type\": \"nominal\"}]}}, {\"data\": {\"name\": \"data-a1ed81ecb47a60d0eb570c8583d9e26a\"}, \"mark\": {\"type\": \"text\", \"angle\": 280, \"dx\": 1, \"dy\": 8, \"font\": \"Comic Sans MS\", \"fontSize\": 8, \"fontStyle\": \"italic\"}, \"encoding\": {\"latitude\": {\"field\": \"LATP\", \"type\": \"quantitative\"}, \"longitude\": {\"field\": \"LONP\", \"type\": \"quantitative\"}, \"text\": {\"field\": \"SURV\", \"type\": \"quantitative\"}}}, {\"data\": {\"name\": \"data-05bdf1637c0980c8876c6f89aa42dd19\"}, \"mark\": {\"type\": \"trail\", \"opacity\": 0.5}, \"encoding\": {\"color\": {\"field\": \"DIV\", \"legend\": {\"direction\": \"horizontal\", \"labelFontSize\": 15, \"symbolSize\": 1000, \"title\": \"Division\", \"titleFontSize\": 15}, \"scale\": {\"domain\": [\"1\", \"2\", \"3\"], \"range\": [\"red\", \"green\", \"blue\"]}, \"type\": \"quantitative\"}, \"detail\": {\"field\": \"DIV\", \"type\": \"quantitative\"}, \"latitude\": {\"field\": \"LATP\", \"type\": \"quantitative\"}, \"longitude\": {\"field\": \"LONP\", \"type\": \"quantitative\"}}, \"height\": 400, \"width\": 1000}]}, {\"data\": {\"name\": \"data-05bdf1637c0980c8876c6f89aa42dd19\"}, \"mark\": \"text\", \"encoding\": {\"x\": {\"axis\": {\"grid\": true, \"title\": \"Longitude\", \"titleColor\": \"gray\", \"titleFontSize\": 20}, \"field\": \"LONP\", \"scale\": {\"domain\": [24.0, 37.6]}, \"type\": \"quantitative\"}, \"y\": {\"axis\": {\"grid\": true, \"orient\": \"left\", \"title\": \"Latitude\", \"titleColor\": \"gray\", \"titleFontSize\": 20}, \"field\": \"LATP\", \"scale\": {\"domain\": [52.95, 57.05]}, \"type\": \"quantitative\"}}, \"height\": 400, \"title\": \"Minard\\u2019s visualization of Napolean\\u2019s Russian Campaign\", \"width\": 1000}], \"data\": {\"name\": \"data-09a84a2cca3e202a740f0b269ef96a7e\"}}, {\"layer\": [{\"mark\": {\"type\": \"line\", \"color\": \"orange\"}, \"encoding\": {\"x\": {\"axis\": {\"grid\": true, \"title\": \"Longitude\", \"titleColor\": \"gray\", \"titleFontSize\": 20}, \"field\": \"LONT\", \"scale\": {\"domain\": [24.0, 37.6]}, \"type\": \"quantitative\"}, \"y\": {\"axis\": {\"grid\": true, \"orient\": \"right\", \"title\": \"Temperature on Retreat\", \"titleColor\": \"gray\", \"titleFontSize\": 20}, \"field\": \"TEMP\", \"scale\": {\"domain\": [-40.0, 10.0]}, \"type\": \"quantitative\"}}}, {\"mark\": {\"type\": \"circle\", \"color\": \"blue\", \"size\": 50}, \"encoding\": {\"tooltip\": [{\"field\": \"LONT\", \"title\": \"Longitude\", \"type\": \"quantitative\"}, {\"field\": \"TEMP\", \"title\": \"Temperature\", \"type\": \"quantitative\"}, {\"field\": \"date\", \"title\": \"Date\", \"type\": \"nominal\"}], \"x\": {\"axis\": {\"grid\": true, \"title\": \"Longitude\", \"titleColor\": \"gray\", \"titleFontSize\": 20}, \"field\": \"LONT\", \"scale\": {\"domain\": [24.0, 37.6]}, \"type\": \"quantitative\"}, \"y\": {\"axis\": {\"grid\": true, \"orient\": \"right\", \"title\": \"Temperature on Retreat\", \"titleColor\": \"gray\", \"titleFontSize\": 20}, \"field\": \"TEMP\", \"scale\": {\"domain\": [-40.0, 10.0]}, \"type\": \"quantitative\"}}}, {\"mark\": {\"type\": \"text\", \"dx\": 5, \"dy\": 20, \"font\": \"Comic Sans MS\", \"fontSize\": 12}, \"encoding\": {\"text\": {\"field\": \"date\", \"type\": \"nominal\"}, \"x\": {\"axis\": {\"grid\": true, \"title\": \"Longitude\", \"titleColor\": \"gray\", \"titleFontSize\": 20}, \"field\": \"LONT\", \"scale\": {\"domain\": [24.0, 37.6]}, \"type\": \"quantitative\"}, \"y\": {\"axis\": {\"grid\": true, \"orient\": \"right\", \"title\": \"Temperature on Retreat\", \"titleColor\": \"gray\", \"titleFontSize\": 20}, \"field\": \"TEMP\", \"scale\": {\"domain\": [-40.0, 10.0]}, \"type\": \"quantitative\"}}, \"height\": 400, \"title\": \"Temperature in degrees during retreat\", \"width\": 1000}], \"data\": {\"name\": \"data-90354afdbf3ca34a4019ecf912d773c0\"}}], \"$schema\": \"https://vega.github.io/schema/vega-lite/v4.17.0.json\", \"datasets\": {\"data-09a84a2cca3e202a740f0b269ef96a7e\": [{\"LONC\": 24.0, \"LATC\": 55.0, \"CITY\": \"Kowno\"}, {\"LONC\": 25.3, \"LATC\": 54.7, \"CITY\": \"Wilna\"}, {\"LONC\": 26.4, \"LATC\": 54.4, \"CITY\": \"Smorgoni\"}, {\"LONC\": 26.8, \"LATC\": 54.3, \"CITY\": \"Molodexno\"}, {\"LONC\": 27.7, \"LATC\": 55.2, \"CITY\": \"Gloubokoe\"}, {\"LONC\": 27.6, \"LATC\": 53.9, \"CITY\": \"Minsk\"}, {\"LONC\": 28.5, \"LATC\": 54.3, \"CITY\": \"Studienska\"}, {\"LONC\": 28.7, \"LATC\": 55.5, \"CITY\": \"Polotzk\"}, {\"LONC\": 29.2, \"LATC\": 54.4, \"CITY\": \"Bobr\"}, {\"LONC\": 30.2, \"LATC\": 55.3, \"CITY\": \"Witebsk\"}, {\"LONC\": 30.4, \"LATC\": 54.5, \"CITY\": \"Orscha\"}, {\"LONC\": 30.4, \"LATC\": 53.9, \"CITY\": \"Mohilow\"}, {\"LONC\": 32.0, \"LATC\": 54.8, \"CITY\": \"Smolensk\"}, {\"LONC\": 33.2, \"LATC\": 54.9, \"CITY\": \"Dorogobouge\"}, {\"LONC\": 34.3, \"LATC\": 55.2, \"CITY\": \"Wixma\"}, {\"LONC\": 34.4, \"LATC\": 55.5, \"CITY\": \"Chjat\"}, {\"LONC\": 36.0, \"LATC\": 55.5, \"CITY\": \"Mojaisk\"}, {\"LONC\": 37.6, \"LATC\": 55.8, \"CITY\": \"Moscou\"}, {\"LONC\": 36.6, \"LATC\": 55.3, \"CITY\": \"Tarantino\"}, {\"LONC\": 36.5, \"LATC\": 55.0, \"CITY\": \"Malo-jarosewli\"}], \"data-05bdf1637c0980c8876c6f89aa42dd19\": [{\"LONP\": 24.0, \"LATP\": 55.2, \"SURV\": 22000, \"DIR\": \"A\", \"DIV\": 3}, {\"LONP\": 24.5, \"LATP\": 55.3, \"SURV\": 22000, \"DIR\": \"A\", \"DIV\": 3}, {\"LONP\": 24.6, \"LATP\": 55.8, \"SURV\": 6000, \"DIR\": \"R\", \"DIV\": 3}, {\"LONP\": 24.2, \"LATP\": 54.4, \"SURV\": 6000, \"DIR\": \"R\", \"DIV\": 3}, {\"LONP\": 24.1, \"LATP\": 54.3, \"SURV\": 6000, \"DIR\": \"R\", \"DIV\": 3}, {\"LONP\": 24.0, \"LATP\": 55.1, \"SURV\": 60000, \"DIR\": \"A\", \"DIV\": 2}, {\"LONP\": 24.5, \"LATP\": 55.2, \"SURV\": 60000, \"DIR\": \"A\", \"DIV\": 2}, {\"LONP\": 25.5, \"LATP\": 54.7, \"SURV\": 60000, \"DIR\": \"A\", \"DIV\": 2}, {\"LONP\": 26.6, \"LATP\": 55.7, \"SURV\": 40000, \"DIR\": \"A\", \"DIV\": 2}, {\"LONP\": 27.4, \"LATP\": 55.6, \"SURV\": 33000, \"DIR\": \"A\", \"DIV\": 2}, {\"LONP\": 28.7, \"LATP\": 55.5, \"SURV\": 30000, \"DIR\": \"R\", \"DIV\": 2}, {\"LONP\": 29.2, \"LATP\": 54.3, \"SURV\": 30000, \"DIR\": \"R\", \"DIV\": 2}, {\"LONP\": 28.5, \"LATP\": 54.2, \"SURV\": 30000, \"DIR\": \"R\", \"DIV\": 2}, {\"LONP\": 28.3, \"LATP\": 54.3, \"SURV\": 28000, \"DIR\": \"R\", \"DIV\": 2}, {\"LONP\": 27.5, \"LATP\": 54.5, \"SURV\": 20000, \"DIR\": \"R\", \"DIV\": 2}, {\"LONP\": 26.4, \"LATP\": 54.4, \"SURV\": 14000, \"DIR\": \"R\", \"DIV\": 2}, {\"LONP\": 26.8, \"LATP\": 54.3, \"SURV\": 12000, \"DIR\": \"R\", \"DIV\": 2}, {\"LONP\": 24.6, \"LATP\": 54.5, \"SURV\": 8000, \"DIR\": \"R\", \"DIV\": 2}, {\"LONP\": 24.4, \"LATP\": 54.4, \"SURV\": 4000, \"DIR\": \"R\", \"DIV\": 2}, {\"LONP\": 24.2, \"LATP\": 54.4, \"SURV\": 4000, \"DIR\": \"R\", \"DIV\": 2}, {\"LONP\": 24.1, \"LATP\": 54.3, \"SURV\": 4000, \"DIR\": \"R\", \"DIV\": 2}, {\"LONP\": 24.0, \"LATP\": 54.9, \"SURV\": 340000, \"DIR\": \"A\", \"DIV\": 1}, {\"LONP\": 24.5, \"LATP\": 55.0, \"SURV\": 340000, \"DIR\": \"A\", \"DIV\": 1}, {\"LONP\": 25.5, \"LATP\": 54.5, \"SURV\": 340000, \"DIR\": \"A\", \"DIV\": 1}, {\"LONP\": 26.0, \"LATP\": 54.7, \"SURV\": 320000, \"DIR\": \"A\", \"DIV\": 1}, {\"LONP\": 27.0, \"LATP\": 54.8, \"SURV\": 300000, \"DIR\": \"A\", \"DIV\": 1}, {\"LONP\": 28.0, \"LATP\": 54.9, \"SURV\": 280000, \"DIR\": \"A\", \"DIV\": 1}, {\"LONP\": 28.5, \"LATP\": 55.0, \"SURV\": 240000, \"DIR\": \"A\", \"DIV\": 1}, {\"LONP\": 29.0, \"LATP\": 55.1, \"SURV\": 210000, \"DIR\": \"A\", \"DIV\": 1}, {\"LONP\": 30.0, \"LATP\": 55.2, \"SURV\": 180000, \"DIR\": \"A\", \"DIV\": 1}, {\"LONP\": 30.3, \"LATP\": 55.3, \"SURV\": 175000, \"DIR\": \"A\", \"DIV\": 1}, {\"LONP\": 32.0, \"LATP\": 54.8, \"SURV\": 145000, \"DIR\": \"A\", \"DIV\": 1}, {\"LONP\": 33.2, \"LATP\": 54.9, \"SURV\": 140000, \"DIR\": \"A\", \"DIV\": 1}, {\"LONP\": 34.4, \"LATP\": 55.5, \"SURV\": 127100, \"DIR\": \"A\", \"DIV\": 1}, {\"LONP\": 35.5, \"LATP\": 55.4, \"SURV\": 100000, \"DIR\": \"A\", \"DIV\": 1}, {\"LONP\": 36.0, \"LATP\": 55.5, \"SURV\": 100000, \"DIR\": \"A\", \"DIV\": 1}, {\"LONP\": 37.6, \"LATP\": 55.8, \"SURV\": 100000, \"DIR\": \"R\", \"DIV\": 1}, {\"LONP\": 37.5, \"LATP\": 55.7, \"SURV\": 98000, \"DIR\": \"R\", \"DIV\": 1}, {\"LONP\": 37.0, \"LATP\": 55.0, \"SURV\": 97000, \"DIR\": \"R\", \"DIV\": 1}, {\"LONP\": 36.8, \"LATP\": 55.0, \"SURV\": 96000, \"DIR\": \"R\", \"DIV\": 1}, {\"LONP\": 35.4, \"LATP\": 55.3, \"SURV\": 87000, \"DIR\": \"R\", \"DIV\": 1}, {\"LONP\": 34.3, \"LATP\": 55.2, \"SURV\": 55000, \"DIR\": \"R\", \"DIV\": 1}, {\"LONP\": 33.3, \"LATP\": 54.8, \"SURV\": 37000, \"DIR\": \"R\", \"DIV\": 1}, {\"LONP\": 32.0, \"LATP\": 54.6, \"SURV\": 24000, \"DIR\": \"R\", \"DIV\": 1}, {\"LONP\": 30.4, \"LATP\": 54.4, \"SURV\": 20000, \"DIR\": \"R\", \"DIV\": 1}, {\"LONP\": 29.2, \"LATP\": 54.4, \"SURV\": 20000, \"DIR\": \"R\", \"DIV\": 1}, {\"LONP\": 28.5, \"LATP\": 54.3, \"SURV\": 20000, \"DIR\": \"R\", \"DIV\": 1}, {\"LONP\": 28.3, \"LATP\": 54.4, \"SURV\": 20000, \"DIR\": \"R\", \"DIV\": 1}], \"data-a1ed81ecb47a60d0eb570c8583d9e26a\": [{\"LONP\": 24.39, \"LATP\": 55.550000000000004, \"SURV\": 22000, \"DIR\": \"A\", \"DIV\": 3}, {\"LONP\": 24.990000000000002, \"LATP\": 55.589999999999996, \"SURV\": 6000, \"DIR\": \"R\", \"DIV\": 3}, {\"LONP\": 24.490000000000002, \"LATP\": 54.089999999999996, \"SURV\": 6000, \"DIR\": \"R\", \"DIV\": 3}, {\"LONP\": 24.76, \"LATP\": 55.550000000000004, \"SURV\": 60000, \"DIR\": \"A\", \"DIV\": 2}, {\"LONP\": 26.860000000000003, \"LATP\": 56.050000000000004, \"SURV\": 40000, \"DIR\": \"A\", \"DIV\": 2}, {\"LONP\": 28.96, \"LATP\": 55.29, \"SURV\": 30000, \"DIR\": \"R\", \"DIV\": 2}, {\"LONP\": 28.76, \"LATP\": 53.99, \"SURV\": 30000, \"DIR\": \"R\", \"DIV\": 2}, {\"LONP\": 27.76, \"LATP\": 54.29, \"SURV\": 20000, \"DIR\": \"R\", \"DIV\": 2}, {\"LONP\": 27.060000000000002, \"LATP\": 54.089999999999996, \"SURV\": 12000, \"DIR\": \"R\", \"DIV\": 2}, {\"LONP\": 24.66, \"LATP\": 54.19, \"SURV\": 4000, \"DIR\": \"R\", \"DIV\": 2}, {\"LONP\": 24.360000000000003, \"LATP\": 54.089999999999996, \"SURV\": 4000, \"DIR\": \"R\", \"DIV\": 2}, {\"LONP\": 24.63, \"LATP\": 55.35, \"SURV\": 340000, \"DIR\": \"A\", \"DIV\": 1}, {\"LONP\": 26.13, \"LATP\": 55.050000000000004, \"SURV\": 320000, \"DIR\": \"A\", \"DIV\": 1}, {\"LONP\": 28.13, \"LATP\": 55.25, \"SURV\": 280000, \"DIR\": \"A\", \"DIV\": 1}, {\"LONP\": 29.13, \"LATP\": 55.45, \"SURV\": 210000, \"DIR\": \"A\", \"DIV\": 1}, {\"LONP\": 30.43, \"LATP\": 55.65, \"SURV\": 175000, \"DIR\": \"A\", \"DIV\": 1}, {\"LONP\": 33.330000000000005, \"LATP\": 55.25, \"SURV\": 140000, \"DIR\": \"A\", \"DIV\": 1}, {\"LONP\": 35.63, \"LATP\": 55.75, \"SURV\": 100000, \"DIR\": \"A\", \"DIV\": 1}, {\"LONP\": 37.730000000000004, \"LATP\": 55.589999999999996, \"SURV\": 100000, \"DIR\": \"R\", \"DIV\": 1}, {\"LONP\": 37.13, \"LATP\": 54.79, \"SURV\": 97000, \"DIR\": \"R\", \"DIV\": 1}, {\"LONP\": 35.53, \"LATP\": 55.089999999999996, \"SURV\": 87000, \"DIR\": \"R\", \"DIV\": 1}, {\"LONP\": 33.43, \"LATP\": 54.589999999999996, \"SURV\": 37000, \"DIR\": \"R\", \"DIV\": 1}, {\"LONP\": 30.529999999999998, \"LATP\": 54.19, \"SURV\": 20000, \"DIR\": \"R\", \"DIV\": 1}, {\"LONP\": 28.63, \"LATP\": 54.089999999999996, \"SURV\": 20000, \"DIR\": \"R\", \"DIV\": 1}], \"data-90354afdbf3ca34a4019ecf912d773c0\": [{\"LONT\": 37.6, \"TEMP\": 0.0, \"DAYS\": \"6\", \"MON\": \"Oct\", \"DAY\": 18.0, \"date\": \"0.0\\u00b0 Oct 6\"}, {\"LONT\": 36.0, \"TEMP\": 0.0, \"DAYS\": \"6\", \"MON\": \"Oct\", \"DAY\": 24.0, \"date\": \"0.0\\u00b0 Oct 6\"}, {\"LONT\": 33.2, \"TEMP\": -9.0, \"DAYS\": \"16\", \"MON\": \"Nov\", \"DAY\": 9.0, \"date\": \"-9.0\\u00b0 Nov 16\"}, {\"LONT\": 32.0, \"TEMP\": -21.0, \"DAYS\": \"5\", \"MON\": \"Nov\", \"DAY\": 14.0, \"date\": \"-21.0\\u00b0 Nov 5\"}, {\"LONT\": 29.2, \"TEMP\": -11.0, \"DAYS\": \"1\", \"MON\": null, \"DAY\": null, \"date\": \"-11.0\\u00b0  1\"}, {\"LONT\": 28.5, \"TEMP\": -20.0, \"DAYS\": \"4\", \"MON\": \"Nov\", \"DAY\": 28.0, \"date\": \"-20.0\\u00b0 Nov 4\"}, {\"LONT\": 27.2, \"TEMP\": -24.0, \"DAYS\": \"3\", \"MON\": \"Dec\", \"DAY\": 1.0, \"date\": \"-24.0\\u00b0 Dec 3\"}, {\"LONT\": 26.7, \"TEMP\": -30.0, \"DAYS\": \"5\", \"MON\": \"Dec\", \"DAY\": 6.0, \"date\": \"-30.0\\u00b0 Dec 5\"}, {\"LONT\": 25.3, \"TEMP\": -26.0, \"DAYS\": \"1\", \"MON\": \"Dec\", \"DAY\": 7.0, \"date\": \"-26.0\\u00b0 Dec 1\"}]}}, {\"mode\": \"vega-lite\"});\n",
       "</script>"
      ],
      "text/plain": [
       "alt.VConcatChart(...)"
      ]
     },
     "execution_count": 8,
     "metadata": {},
     "output_type": "execute_result"
    }
   ],
   "source": [
    "finalMap"
   ]
  },
  {
   "cell_type": "code",
   "execution_count": null,
   "id": "5ec2aa1a",
   "metadata": {},
   "outputs": [],
   "source": []
  }
 ],
 "metadata": {
  "kernelspec": {
   "display_name": "Python 3 (ipykernel)",
   "language": "python",
   "name": "python3"
  },
  "language_info": {
   "codemirror_mode": {
    "name": "ipython",
    "version": 3
   },
   "file_extension": ".py",
   "mimetype": "text/x-python",
   "name": "python",
   "nbconvert_exporter": "python",
   "pygments_lexer": "ipython3",
   "version": "3.9.12"
  }
 },
 "nbformat": 4,
 "nbformat_minor": 5
}
